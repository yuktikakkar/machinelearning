{
 "cells": [
  {
   "cell_type": "markdown",
   "id": "783f991a-735b-414b-a5e7-00d0cc8507d3",
   "metadata": {},
   "source": [
    "## Ans to Question 0"
   ]
  },
  {
   "cell_type": "code",
   "execution_count": 6,
   "id": "5ae1fe59-42e5-4e7a-a38c-51bc9c301f18",
   "metadata": {},
   "outputs": [],
   "source": [
    "#================"
   ]
  },
  {
   "cell_type": "code",
   "execution_count": 8,
   "id": "5aece7ec-a712-4b4a-a88f-8032b16a3f5a",
   "metadata": {},
   "outputs": [],
   "source": [
    "# On the discussion board"
   ]
  },
  {
   "cell_type": "code",
   "execution_count": 7,
   "id": "58ae36b6-897c-4b17-abc0-75c3a14c8a60",
   "metadata": {},
   "outputs": [],
   "source": [
    "#================"
   ]
  },
  {
   "cell_type": "markdown",
   "id": "d595bdf7-0d9f-4642-ab5c-b718b5b198b2",
   "metadata": {},
   "source": [
    "## Ans to Question 1"
   ]
  },
  {
   "cell_type": "code",
   "execution_count": 10,
   "id": "8a328812-ccfc-4965-9ba8-a71372f39876",
   "metadata": {},
   "outputs": [],
   "source": [
    "#================"
   ]
  },
  {
   "cell_type": "markdown",
   "id": "997513ca-9609-460c-ac67-02a79c0f36df",
   "metadata": {},
   "source": [
    "##### Explanation of the approach: The training data provides us with four expressions and their corresponding category. Using Naive Bayes' theorem we can find the probabilities that the test expresssion for each category and then pick the one with the highest probability. According to the question, we are only supposed to decompose the joint distribution."
   ]
  },
  {
   "cell_type": "markdown",
   "id": "e47556fc-c027-4f3d-a4e8-de12289e8464",
   "metadata": {},
   "source": [
    "##### Naive Bayes theorem is expressed as:\n",
    "\n",
    "P(A|B) = (P(B|A) x P(A)) / P(B)"
   ]
  },
  {
   "cell_type": "markdown",
   "id": "86fd1e47-3e1d-417f-bb2f-0827476c0bee",
   "metadata": {},
   "source": [
    "#### 1. Finding P(sunny|a cone of ice cream)"
   ]
  },
  {
   "cell_type": "markdown",
   "id": "c735ca8f-65e1-4c1b-bc32-2dcf7bc7f9fe",
   "metadata": {},
   "source": [
    "##### P(sunny|a cone of ice cream) "
   ]
  },
  {
   "cell_type": "markdown",
   "id": "a01fd769-6c4e-4937-91c3-8c995b2ac1f3",
   "metadata": {},
   "source": [
    "##### = (P(a cone of ice cream|sunny) x P(sunny)) / P(a cone of ice cream)"
   ]
  },
  {
   "cell_type": "code",
   "execution_count": 4,
   "id": "36aa88bd-b89d-44c9-ad25-9c4b1b00511f",
   "metadata": {},
   "outputs": [],
   "source": [
    "# P(a cone of ice cream|sunny) = (P(a|sunny) x P(cone|sunny) x P(of|sunny) x P(ice|sunny) x P(cream|sunny)\n",
    "# P(a cone of ice cream) = P(a) + P(cone) + P(of) + P(ice) + P(cream)"
   ]
  },
  {
   "cell_type": "markdown",
   "id": "f9b49b3c-8291-4f3f-91fd-60814fd8fb77",
   "metadata": {},
   "source": [
    "##### = ((P(a|sunny) x P(cone|sunny) x P(of|sunny) x P(ice|sunny) x P(cream|sunny)) x P(sunny)) / (P(a) x P(cone) x P(of) x P(ice) x P(cream))"
   ]
  },
  {
   "cell_type": "markdown",
   "id": "2dbbdb97-bf0a-44a8-b7f8-e9a67f2dd183",
   "metadata": {},
   "source": [
    "#### 2. Finding P(rainy|a cup of hot coffee)"
   ]
  },
  {
   "cell_type": "markdown",
   "id": "18a69c11-1bf9-453d-8018-94c6ec826c9c",
   "metadata": {},
   "source": [
    "##### P(rainy|a cup of hot coffee)"
   ]
  },
  {
   "cell_type": "markdown",
   "id": "be02400f-435a-4b1e-828b-9eb77601555b",
   "metadata": {},
   "source": [
    "##### = (P(a cup of hot coffee|rainy) x P(rainy)) / P(a cup of hot coffee)"
   ]
  },
  {
   "cell_type": "code",
   "execution_count": 5,
   "id": "99fe71a2-64b2-473a-bbb4-310d8771c145",
   "metadata": {},
   "outputs": [],
   "source": [
    "# P(a cup of hot coffee|rainy) = P(a|rainy) x P(cup|rainy) + P(of|rainy) + P(hot|rainy) + P(coffee|rainy)\n",
    "# P(a cup of hot coffee) = P(a) + P(cup) + P(of) + P(hot) + P(coffee)"
   ]
  },
  {
   "cell_type": "markdown",
   "id": "f75e48b0-24b7-4a3c-af97-75b3a11d15b4",
   "metadata": {},
   "source": [
    "##### = ((P(a|rainy) x P(cup|rainy) x P(of|rainy) x P(coffee|rainy)) x P(rainy)) / (P(a) x P(cup) x P(of) x P(hot) x P(coffee))"
   ]
  },
  {
   "cell_type": "code",
   "execution_count": 7,
   "id": "1a84c94e-3217-402f-8110-b3ddfcce69f5",
   "metadata": {},
   "outputs": [],
   "source": [
    "#================"
   ]
  },
  {
   "cell_type": "markdown",
   "id": "3007cd7d-76be-4de9-921b-cc2f8d3b8d89",
   "metadata": {},
   "source": [
    "## Ans to Question 3"
   ]
  },
  {
   "cell_type": "code",
   "execution_count": 8,
   "id": "38c84df7-d33a-428f-93eb-fd924ca74efe",
   "metadata": {},
   "outputs": [],
   "source": [
    "#================"
   ]
  },
  {
   "cell_type": "code",
   "execution_count": 11,
   "id": "0e0a05e2-2999-467c-8ce5-2008070ffab1",
   "metadata": {},
   "outputs": [],
   "source": [
    "# Updated the file: naiveBayes.py"
   ]
  },
  {
   "cell_type": "code",
   "execution_count": 9,
   "id": "586c8035-63f1-424c-b268-a65a8f99f64a",
   "metadata": {},
   "outputs": [],
   "source": [
    "#================"
   ]
  }
 ],
 "metadata": {
  "kernelspec": {
   "display_name": "Python 3 (ipykernel)",
   "language": "python",
   "name": "python3"
  },
  "language_info": {
   "codemirror_mode": {
    "name": "ipython",
    "version": 3
   },
   "file_extension": ".py",
   "mimetype": "text/x-python",
   "name": "python",
   "nbconvert_exporter": "python",
   "pygments_lexer": "ipython3",
   "version": "3.8.10"
  }
 },
 "nbformat": 4,
 "nbformat_minor": 5
}
